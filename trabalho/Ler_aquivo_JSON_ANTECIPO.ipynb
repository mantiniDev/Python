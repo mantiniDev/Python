{
  "cells": [
    {
      "cell_type": "markdown",
      "metadata": {
        "colab_type": "text",
        "id": "view-in-github"
      },
      "source": [
        "<a href=\"https://colab.research.google.com/github/mantiniDev/Python/blob/main/Ler_aquivo_JSON_ANTECIPO.ipynb\" target=\"_parent\"><img src=\"https://colab.research.google.com/assets/colab-badge.svg\" alt=\"Open In Colab\"/></a>"
      ]
    },
    {
      "cell_type": "code",
      "execution_count": 3,
      "metadata": {
        "id": "GbPG2KjVErUC"
      },
      "outputs": [],
      "source": [
        "import json\n",
        "\n",
        "#mudar o nome do arquivo JSON, para ser carregado pelo python\n",
        "with open(\"antecipo5105.json\", encoding='utf-8') as meu_JSON:\n",
        "    dados = json.load(meu_JSON)\n"
      ]
    },
    {
      "cell_type": "markdown",
      "metadata": {
        "id": "RtsuwD48-WPt"
      },
      "source": [
        "# Nova seção"
      ]
    },
    {
      "cell_type": "code",
      "execution_count": 6,
      "metadata": {
        "colab": {
          "base_uri": "https://localhost:8080/"
        },
        "id": "GuDk0sOiVnAc",
        "outputId": "36a1a7a4-916b-4249-8dad-98b206a5f78c"
      },
      "outputs": [
        {
          "name": "stdout",
          "output_type": "stream",
          "text": [
            "Digite a CCB: CA00099076\n"
          ]
        }
      ],
      "source": [
        "numeroCCbs = input(\"Digite a CCB: \")"
      ]
    },
    {
      "cell_type": "code",
      "execution_count": 7,
      "metadata": {
        "colab": {
          "base_uri": "https://localhost:8080/"
        },
        "id": "Bs-u1AfVSm_7",
        "outputId": "8a226ce1-bb87-4055-916f-365e3edab5ed"
      },
      "outputs": [
        {
          "name": "stdout",
          "output_type": "stream",
          "text": [
            "Erro n:  1 \n",
            "CCB: CA00099076 \n",
            "Nome: LUIS HENRIQUE CHAGAS LEITE \n",
            "CPF:  00032694414877\n"
          ]
        }
      ],
      "source": [
        "contador = 0\n",
        "\n",
        "for i in dados:\n",
        "  if numeroCCbs == i['number']:\n",
        "    contador += 1\n",
        "    print('Erro n: ',contador,'\\nCCB:', i['number'],'\\nNome:', i['issuer_name'], '\\nCPF: ', i['issuer_cpf'])\n",
        "\n",
        "  "
      ]
    }
  ],
  "metadata": {
    "colab": {
      "authorship_tag": "ABX9TyM8iVhGCYIFwJW+PKSv57J7",
      "include_colab_link": true,
      "mount_file_id": "1I5dfcw5DHhe_QvN5ZMWYh4jSbCpHZwPB",
      "name": "Ler aquivo JSON - ANTECIPO.ipynb",
      "provenance": []
    },
    "kernelspec": {
      "display_name": "Python 3.10.7 64-bit",
      "language": "python",
      "name": "python3"
    },
    "language_info": {
      "name": "python",
      "version": "3.10.7"
    },
    "vscode": {
      "interpreter": {
        "hash": "a2aa094daa668d2c78068a361773219f55ff3943da918564456febab517700ce"
      }
    }
  },
  "nbformat": 4,
  "nbformat_minor": 0
}
