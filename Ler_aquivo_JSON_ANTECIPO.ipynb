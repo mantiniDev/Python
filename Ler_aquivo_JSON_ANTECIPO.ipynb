{
  "nbformat": 4,
  "nbformat_minor": 0,
  "metadata": {
    "colab": {
      "name": "Ler aquivo JSON - ANTECIPO.ipynb",
      "provenance": [],
      "mount_file_id": "1I5dfcw5DHhe_QvN5ZMWYh4jSbCpHZwPB",
      "authorship_tag": "ABX9TyM8iVhGCYIFwJW+PKSv57J7",
      "include_colab_link": true
    },
    "kernelspec": {
      "name": "python3",
      "display_name": "Python 3"
    },
    "language_info": {
      "name": "python"
    }
  },
  "cells": [
    {
      "cell_type": "markdown",
      "metadata": {
        "id": "view-in-github",
        "colab_type": "text"
      },
      "source": [
        "<a href=\"https://colab.research.google.com/github/mantiniDev/Python/blob/main/Ler_aquivo_JSON_ANTECIPO.ipynb\" target=\"_parent\"><img src=\"https://colab.research.google.com/assets/colab-badge.svg\" alt=\"Open In Colab\"/></a>"
      ]
    },
    {
      "cell_type": "code",
      "source": [
        "import json\n",
        "\n",
        "#mudar o nome do arquivo JSON, para ser carregado pelo python\n",
        "with open(\"antecipo5105.json\", encoding='utf-8') as meu_JSON:\n",
        "    dados = json.load(meu_JSON)\n"
      ],
      "metadata": {
        "id": "GbPG2KjVErUC"
      },
      "execution_count": 3,
      "outputs": []
    },
    {
      "cell_type": "markdown",
      "source": [
        "# Nova seção"
      ],
      "metadata": {
        "id": "RtsuwD48-WPt"
      }
    },
    {
      "cell_type": "code",
      "source": [
        "numeroCCbs = input(\"Digite a CCB: \")"
      ],
      "metadata": {
        "colab": {
          "base_uri": "https://localhost:8080/"
        },
        "id": "GuDk0sOiVnAc",
        "outputId": "36a1a7a4-916b-4249-8dad-98b206a5f78c"
      },
      "execution_count": 6,
      "outputs": [
        {
          "name": "stdout",
          "output_type": "stream",
          "text": [
            "Digite a CCB: CA00099076\n"
          ]
        }
      ]
    },
    {
      "cell_type": "code",
      "source": [
        "contador = 0\n",
        "\n",
        "for i in dados:\n",
        "  if numeroCCbs == i['number']:\n",
        "    contador += 1\n",
        "    print('Erro n: ',contador,'\\nCCB:', i['number'],'\\nNome:', i['issuer_name'], '\\nCPF: ', i['issuer_cpf'])\n",
        "\n",
        "  "
      ],
      "metadata": {
        "colab": {
          "base_uri": "https://localhost:8080/"
        },
        "id": "Bs-u1AfVSm_7",
        "outputId": "8a226ce1-bb87-4055-916f-365e3edab5ed"
      },
      "execution_count": 7,
      "outputs": [
        {
          "output_type": "stream",
          "name": "stdout",
          "text": [
            "Erro n:  1 \n",
            "CCB: CA00099076 \n",
            "Nome: LUIS HENRIQUE CHAGAS LEITE \n",
            "CPF:  00032694414877\n"
          ]
        }
      ]
    }
  ]
}